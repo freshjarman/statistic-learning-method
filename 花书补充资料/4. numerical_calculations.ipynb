{
 "cells": [
  {
   "cell_type": "code",
   "execution_count": 3,
   "metadata": {},
   "outputs": [],
   "source": [
    "import numpy as np\n",
    "import numpy.linalg as la"
   ]
  },
  {
   "cell_type": "markdown",
   "metadata": {},
   "source": [
    "## 优化方法"
   ]
  },
  {
   "cell_type": "markdown",
   "metadata": {},
   "source": [
    "### 1. 梯度下降法\n",
    "\n",
    "一阶优化算法（仅使用梯度信息）"
   ]
  },
  {
   "cell_type": "code",
   "execution_count": 2,
   "metadata": {},
   "outputs": [],
   "source": [
    "# 实例：线性最小二乘\n",
    "# 问题：给定一个矩阵A和一个向量b，找到一个向量x，使得f(x) = 0.5 * ||Ax - b||_2^2最小\n",
    "# 可以计算梯度为：grad(f(x)) = A^T(Ax - b) = A^TAx - A^Tb\n",
    "\n",
    "x0 = np.array([1.0, 1.0, 1.0])\n",
    "A = np.array([[1.0, -2.0, 1.0], [0.0, 2.0, -8.0], [-4.0, 5.0, 9.0]])\n",
    "b = np.array([0.0, 8.0, -9.0])\n",
    "epsilon = 0.001  # learning rate\n",
    "delta = 1e-3  # convergence criterion\n",
    "# 给定A和b，真正的解x是[29.0, 16.0, 3.0]"
   ]
  },
  {
   "cell_type": "code",
   "execution_count": 4,
   "metadata": {},
   "outputs": [],
   "source": [
    "def matual_chain(*args):\n",
    "    \"\"\"矩阵链乘积\"\"\"\n",
    "    if len(args) == 0:\n",
    "        return np.nan\n",
    "    result = args[0]\n",
    "    for i in range(1, len(args)):\n",
    "        result = np.dot(result, args[i])\n",
    "        # reuslt = result@args[i]\n",
    "    return result\n",
    "\n",
    "def gradient_descent(x, A, b, epsilon, delta):\n",
    "    while la.norm(matual_chain(A.T, A, x) - matual_chain(A.T, b)) > delta:  # 梯度的范数 > delta（函数在当前点的变化率还较大）\n",
    "        x -= epsilon * (matual_chain(A.T, A, x) - matual_chain(A.T, b))  # x' = x - epsilon * grad (梯度下降迭代)\n",
    "    return x"
   ]
  },
  {
   "cell_type": "code",
   "execution_count": 5,
   "metadata": {},
   "outputs": [
    {
     "data": {
      "text/plain": [
       "array([27.82277014, 15.34731055,  2.83848939])"
      ]
     },
     "execution_count": 5,
     "metadata": {},
     "output_type": "execute_result"
    }
   ],
   "source": [
    "gradient_descent(x0, A, b, epsilon, delta)  # 很接近真正解[29.0, 16.0, 3.0]"
   ]
  },
  {
   "cell_type": "markdown",
   "metadata": {},
   "source": [
    "### 2. 牛顿法\n",
    "\n",
    "二阶优化算法（使用梯度 和 Hessian矩阵（二阶导信息））\n",
    "\n",
    "- 牛顿法迭代地更新近似函数和跳到近似函数的最小点，可以比梯度下降法更快地收敛到最小值\n",
    "- 这在接近全局最小值时特别有用，但是在鞍点附近可能时有害的\n",
    "\n",
    "牛顿法基于一个二阶泰勒展开来近似x^0附近的函数，然后求解这个近似函数的最小值，得到下一个迭代点$x^1$，然后重复这个过程直到收敛:\n",
    "\n",
    "$f(x) ≈ f(x^0) + ∇f(x^0)(x - x^0) + 1/2(x - x^0)^T H(x^0)(x - x^0)$\n",
    "\n",
    "接着通过计算，我们可以得到这个函数的临界点：\n",
    "\n",
    "$x^* = x^0 - H(x^0)^-1∇f(x^0)$\n",
    "\n",
    "针对上述实例（线性最小二乘），计算得到$H = A^TA$，进一步计算得到最优解：\n",
    "\n",
    "$x^* = x^0 - (A^TA)^{-1}(A^TAx^0 - A^Tb) = (A^TA)^{-1}A^Tb$"
   ]
  },
  {
   "cell_type": "code",
   "execution_count": 6,
   "metadata": {},
   "outputs": [],
   "source": [
    "def newton(x, A, b, delta):\n",
    "    x = matual_chain(la.inv(matual_chain(A.T, A)), matual_chain(A.T, b))  # x = inv(H) * grad (牛顿法迭代), inv()是求逆\n",
    "    return x"
   ]
  },
  {
   "cell_type": "code",
   "execution_count": 7,
   "metadata": {},
   "outputs": [
    {
     "data": {
      "text/plain": [
       "array([29., 16.,  3.])"
      ]
     },
     "execution_count": 7,
     "metadata": {},
     "output_type": "execute_result"
    }
   ],
   "source": [
    "newton(x0, A, b, delta)  # 等于真正解[29.0, 16.0, 3.0]"
   ]
  },
  {
   "cell_type": "markdown",
   "metadata": {},
   "source": [
    "### 3. 约束优化\n",
    "\n",
    "![constrained optimization](images/constrained_optim.png)"
   ]
  },
  {
   "cell_type": "code",
   "execution_count": 8,
   "metadata": {},
   "outputs": [],
   "source": [
    "def constrain_optim(x, A, b, delta=5e-2):\n",
    "    k = len(x)\n",
    "    lamb = 0\n",
    "    while np.abs(np.dot(x.T, x)-1) > delta:  #  delta设为5e-2，最优设为0\n",
    "        x = matual_chain(la.inv(matual_chain(A.T, A) + 2*lamb*np.identity(k)), matual_chain(A.T, b))\n",
    "        lamb += np.dot(x.T, x)-1\n",
    "    return x"
   ]
  },
  {
   "cell_type": "code",
   "execution_count": 9,
   "metadata": {},
   "outputs": [
    {
     "data": {
      "text/plain": [
       "array([ 0.23637902,  0.05135858, -0.94463626])"
      ]
     },
     "execution_count": 9,
     "metadata": {},
     "output_type": "execute_result"
    }
   ],
   "source": [
    "constrain_optim(x0, A, b, delta=5e-2)"
   ]
  },
  {
   "cell_type": "code",
   "execution_count": null,
   "metadata": {},
   "outputs": [],
   "source": []
  }
 ],
 "metadata": {
  "kernelspec": {
   "display_name": "Python 3",
   "language": "python",
   "name": "python3"
  },
  "language_info": {
   "codemirror_mode": {
    "name": "ipython",
    "version": 3
   },
   "file_extension": ".py",
   "mimetype": "text/x-python",
   "name": "python",
   "nbconvert_exporter": "python",
   "pygments_lexer": "ipython3",
   "version": "3.11.4"
  }
 },
 "nbformat": 4,
 "nbformat_minor": 2
}
