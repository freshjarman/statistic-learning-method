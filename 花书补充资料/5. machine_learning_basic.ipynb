{
 "cells": [
  {
   "cell_type": "code",
   "execution_count": 3,
   "metadata": {},
   "outputs": [],
   "source": [
    "import math\n",
    "import numpy as np\n",
    "import pandas as pd\n",
    "import matplotlib.pyplot as plt\n",
    "from sklearn.datasets import load_iris\n",
    "from sklearn.model_selection import train_test_split"
   ]
  },
  {
   "cell_type": "markdown",
   "metadata": {},
   "source": [
    "## 机器学习基础"
   ]
  },
  {
   "cell_type": "markdown",
   "metadata": {},
   "source": [
    "### 最大似然估计与贝叶斯统计"
   ]
  },
  {
   "cell_type": "code",
   "execution_count": 10,
   "metadata": {},
   "outputs": [],
   "source": [
    "# MAP 最大后验估计\n",
    "\n",
    "class NativeBayes:\n",
    "\n",
    "    def __init__(self) -> None:\n",
    "        self.parameters = []  # 保存每个特征针对每个类的均值和方差\n",
    "        self.y = None\n",
    "        self.classes = None\n",
    "\n",
    "    def fit(self, X, y):\n",
    "        self.y = y\n",
    "        self.classes = np.unique(y)  # 类别\n",
    "        # 计算每个特征针对每个类别的均值和方差\n",
    "        for i, c in enumerate(self.classes):\n",
    "            # 选择类别为c的数据\n",
    "            X_where = X[np.where(y == c)]\n",
    "            self.parameters.append([])\n",
    "            for col in X_where.T:\n",
    "                parameters = {\"mean\": col.mean(), \"var\": col.var()}\n",
    "                self.parameters[i].append(parameters)\n",
    "\n",
    "    def _calculate_prior(self, c):\n",
    "        # 先验概率【基于训练集】\n",
    "        frequency = np.mean(self.y == c)\n",
    "        return frequency\n",
    "    \n",
    "    def _calculate_likelihood(self, mean, var, X):\n",
    "        # 似然函数\n",
    "        eps = 1e-4 # 防止分母为0\n",
    "        coeff = 1.0 / math.sqrt(2.0 * math.pi * var + eps)\n",
    "        exponent = math.exp(-(math.pow(X - mean, 2) / (2 * var + eps)))\n",
    "        return coeff * exponent\n",
    "    \n",
    "    def _calculate_probabilities(self, X):\n",
    "        # 计算每个类别的概率\n",
    "        probabilities = []\n",
    "        for i, c in enumerate(self.classes):\n",
    "            prior = self._calculate_prior(c)\n",
    "            likelihood = 1.0\n",
    "            for feature, params in zip(X, self.parameters[i]):\n",
    "                # 独立性假设\n",
    "                # p(x1,x2,x3|y) = p(x1|y) * p(x2|y) * p(x3|y)  # x1, x2, x3此处是该样本对应的特征值\n",
    "                likelihood *= self._calculate_likelihood(params[\"mean\"], params[\"var\"], feature)\n",
    "            probabilities.append(prior * likelihood)\n",
    "        \n",
    "        # 返回具有最大后验概率的类别\n",
    "        return self.classes[np.argmax(probabilities)], probabilities    \n",
    "    \n",
    "    def predict(self, X):\n",
    "        # 预测\n",
    "        y_pred = [self._calculate_probabilities(sample)[0] for sample in X]\n",
    "        return y_pred\n",
    "    \n",
    "    def score(self, X, y):\n",
    "        # 计算准确率\n",
    "        y_pred = self.predict(X)\n",
    "        accuracy = np.mean(y_pred == y)\n",
    "        return accuracy"
   ]
  },
  {
   "cell_type": "code",
   "execution_count": 4,
   "metadata": {},
   "outputs": [
    {
     "name": "stdout",
     "output_type": "stream",
     "text": [
      "[5.2 3.5 1.5 0.2] 0.0\n"
     ]
    }
   ],
   "source": [
    "def create_data():\n",
    "    iris = load_iris()\n",
    "    df = pd.DataFrame(iris.data, columns=iris.feature_names)\n",
    "    df['label'] = iris.target\n",
    "    df.columns = ['sepal length', 'sepal width', 'petal length', 'petal width', 'label']\n",
    "    data = np.array(df.iloc[:100, :])\n",
    "    return data[:, :-1], data[:, -1]\n",
    "\n",
    "X, y = create_data()\n",
    "X_train, X_test, y_train, y_test = train_test_split(X, y, test_size=.3)\n",
    "print(X_train[0], y_train[0])"
   ]
  },
  {
   "cell_type": "code",
   "execution_count": 17,
   "metadata": {},
   "outputs": [
    {
     "name": "stdout",
     "output_type": "stream",
     "text": [
      "1.0\n"
     ]
    }
   ],
   "source": [
    "model = NativeBayes()\n",
    "model.fit(X_train, y_train)\n",
    "print(model.score(X_test, y_test))"
   ]
  },
  {
   "cell_type": "code",
   "execution_count": 15,
   "metadata": {},
   "outputs": [
    {
     "name": "stdout",
     "output_type": "stream",
     "text": [
      "1.0\n"
     ]
    }
   ],
   "source": [
    "# 从sklearn中导入高斯朴素贝叶斯估计 GaussianNB\n",
    "\n",
    "from sklearn.naive_bayes import GaussianNB\n",
    "skl_model = GaussianNB()\n",
    "skl_model.fit(X_train, y_train)\n",
    "print(skl_model.score(X_test, y_test))"
   ]
  },
  {
   "cell_type": "code",
   "execution_count": null,
   "metadata": {},
   "outputs": [],
   "source": []
  }
 ],
 "metadata": {
  "kernelspec": {
   "display_name": "Python 3",
   "language": "python",
   "name": "python3"
  },
  "language_info": {
   "codemirror_mode": {
    "name": "ipython",
    "version": 3
   },
   "file_extension": ".py",
   "mimetype": "text/x-python",
   "name": "python",
   "nbconvert_exporter": "python",
   "pygments_lexer": "ipython3",
   "version": "3.11.4"
  }
 },
 "nbformat": 4,
 "nbformat_minor": 2
}
